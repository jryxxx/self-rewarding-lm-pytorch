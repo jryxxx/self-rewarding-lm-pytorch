{
 "cells": [
  {
   "cell_type": "code",
   "execution_count": null,
   "metadata": {},
   "outputs": [],
   "source": [
    "import torch\n",
    "from torch import Tensor\n",
    "\n",
    "from self_rewarding_lm_pytorch import (\n",
    "    SelfRewardingTrainer,\n",
    "    create_mock_dataset\n",
    ")\n",
    "\n",
    "from x_transformers import TransformerWrapper, Decoder\n",
    "\n",
    "transformer = TransformerWrapper(\n",
    "    num_tokens = 256,\n",
    "    max_seq_len = 1024,\n",
    "    attn_layers = Decoder(\n",
    "        dim = 512,\n",
    "        depth = 1,\n",
    "        heads = 8\n",
    "    )\n",
    ")\n",
    "\n",
    "SFTDataset = create_mock_dataset(100, lambda: (torch.randint(0, 256, (256,)), torch.tensor(1)))\n",
    "PromptDataset = create_mock_dataset(100, lambda: 'mock prompt')\n",
    "\n",
    "def decode_tokens(tokens: Tensor) -> str:\n",
    "    decode_token = lambda token: str(chr(max(32, token)))\n",
    "    return ''.join(list(map(decode_token, tokens)))\n",
    "\n",
    "def encode_str(seq_str: str) -> Tensor:\n",
    "    return Tensor(list(map(ord, seq_str)))\n",
    "\n",
    "trainer = SelfRewardingTrainer(\n",
    "    transformer,\n",
    "    train_sft_dataset = SFTDataset(),\n",
    "    spin = False,\n",
    "    num_preference_pairs = [1, 1],\n",
    "    preference_max_seq_len = 64,\n",
    "    prompt_dataset = PromptDataset(),\n",
    "    tokenizer_encode = encode_str,\n",
    "    tokenizer_decode = decode_tokens,\n",
    "    accelerate_kwargs = dict(\n",
    "        cpu = True\n",
    "    ),\n",
    "    dpo_trainer_kwargs = dict(\n",
    "        batch_size = 1\n",
    "    )\n",
    ")\n",
    "\n",
    "trainer(overwrite_checkpoints = True)"
   ]
  }
 ],
 "metadata": {
  "kernelspec": {
   "display_name": "tmp",
   "language": "python",
   "name": "python3"
  },
  "language_info": {
   "codemirror_mode": {
    "name": "ipython",
    "version": 3
   },
   "file_extension": ".py",
   "mimetype": "text/x-python",
   "name": "python",
   "nbconvert_exporter": "python",
   "pygments_lexer": "ipython3",
   "version": "3.9.18"
  }
 },
 "nbformat": 4,
 "nbformat_minor": 2
}
